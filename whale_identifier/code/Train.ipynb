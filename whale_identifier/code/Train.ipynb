{
 "cells": [
  {
   "cell_type": "code",
   "execution_count": null,
   "metadata": {},
   "outputs": [],
   "source": [
    "import torch\n",
    "from torch.autograd import Variable\n",
    "from whale_identifier.code.models.simple_cnn import BasicCnn\n",
    "from whale_identifier.code.data.datasets import WhaleDataset\n",
    "from whale_identifier.code.data.transformations import ToTensor, Rescale\n",
    "from torch.utils.data import DataLoader\n",
    "from torchvision import transforms, utils\n",
    "import torch.nn as nn\n"
   ]
  },
  {
   "cell_type": "code",
   "execution_count": null,
   "metadata": {},
   "outputs": [],
   "source": [
    "\n",
    "\n",
    "CSV_PATH = \"../input/labels/train.csv\"\n",
    "IMG_PATH = \"../input/train/\"\n",
    "whale_data = WhaleDataset(CSV_PATH, IMG_PATH, transform=transforms.Compose([Rescale(256),\n",
    "                                                                            ToTensor()]))\n",
    "\n"
   ]
  },
  {
   "cell_type": "code",
   "execution_count": null,
   "metadata": {},
   "outputs": [],
   "source": [
    "\n",
    "data_loader = DataLoader(whale_data, 5)\n"
   ]
  },
  {
   "cell_type": "code",
   "execution_count": null,
   "metadata": {},
   "outputs": [],
   "source": [
    "device = torch.device(\"cuda:0\" if torch.cuda.is_available() else \"cpu\")\n",
    "\n"
   ]
  },
  {
   "cell_type": "code",
   "execution_count": null,
   "metadata": {},
   "outputs": [],
   "source": [
    "model = BasicCnn(device)\n",
    "\n",
    "CELoss = nn.CrossEntropyLoss()\n",
    "optimizer = torch.optim.SGD(model.parameters(), lr=.001)\n"
   ]
  },
  {
   "cell_type": "code",
   "execution_count": null,
   "metadata": {},
   "outputs": [],
   "source": [
    "count = 0\n",
    "for i, sample_data in enumerate(data_loader, 0):\n",
    "    batch = sample_data['image'].to(torch.float32)\n",
    "    label = sample_data['label']\n",
    "    batch = Variable(batch)\n",
    "    optimizer.zero_grad()\n",
    "    print(batch.type())\n",
    "    output = model(batch)\n",
    "    loss = CELoss(output, label)\n",
    "    loss.backward()\n",
    "    optimizer.step()\n",
    "    count += 1\n",
    "    print(f'loss: {loss} at iteration {count}')\n",
    "    \n"
   ]
  }
 ],
 "metadata": {
  "kernelspec": {
   "display_name": "whale",
   "language": "python",
   "name": "whale"
  },
  "language_info": {
   "codemirror_mode": {
    "name": "ipython",
    "version": 3
   },
   "file_extension": ".py",
   "mimetype": "text/x-python",
   "name": "python",
   "nbconvert_exporter": "python",
   "pygments_lexer": "ipython3",
   "version": "3.7.3"
  }
 },
 "nbformat": 4,
 "nbformat_minor": 2
}
